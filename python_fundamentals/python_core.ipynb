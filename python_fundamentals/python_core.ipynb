{
 "cells": [
  {
   "cell_type": "markdown",
   "metadata": {},
   "source": [
    "# Big Data Analytics - Lab Week 1\n"
   ]
  },
  {
   "cell_type": "markdown",
   "metadata": {},
   "source": [
    "Some of the python exercises are adapted from the course:\n",
    "\n",
    "https://github.com/rajathkumarmp/Python-Lectures where you can find more exercises if you wish to review, and from\n",
    "\n",
    "https://www.practicepython.org/ a great resource for simple exercises and solutions.\n",
    "#### Books\n",
    "If you want a quick revision of Python I highly recommend [this book](https://www.oreilly.com/library/view/learning-python-5th/9781449355722/) or [this](https://www.oreilly.com/library/view/python-in-a/9781098113544/). If you want more advanced revision of python, I recommend [this](https://www.oreilly.com/library/view/fluent-python-2nd/9781492056348/) and if you are looking to brush up on python for data analysis I recommend [this](https://www.oreilly.com/library/view/python-for-data/9781491957653/)."
   ]
  },
  {
   "cell_type": "markdown",
   "metadata": {},
   "source": [
    "This notebook covers foundational Python skills needed to work with Spark, MLlib, and Databricks workflows.\n",
    "We will review:\n",
    "- Variables, operators (arithmetic, relational, bitwise; and the difference between logical and and bitwise &)\n",
    "- Data types and type conversion\n",
    "- Built-in functions\n",
    "- Data structures: lists, tuples, dictionaries, sets, and strings\n",
    "- Indexing, slicing, and unpacking\n",
    "- The importance of understanding views vs. copies (a common beginner pitfall)\n",
    "- Using f-strings for formatting\n",
    "- Some advanced topics.\n",
    "\n",
    "Note: Each code cell is paired with a markdown explanation. Some cells are left as \"Your code here\" for you to test your understanding with minimal interruptions."
   ]
  },
  {
   "cell_type": "markdown",
   "metadata": {},
   "source": [
    "> If you haven't used a notebook like this before you can type code into the cells below and then execute it (Shift+Enter or the ▶ sign in the up-right corner). Typically, I will provide some example code for you to run and add exercises for you to apply your understanding and solve problems."
   ]
  },
  {
   "cell_type": "markdown",
   "metadata": {},
   "source": [
    "## Basics"
   ]
  },
  {
   "cell_type": "markdown",
   "metadata": {},
   "source": [
    "### Variables\n",
    "\n",
    "#### Defining and Using Variables\n",
    "\n",
    "In Python, a variable is simply a name that refers to a value. In our Friends-themed example, we assign ages to some characters and other attributes. Variables do not need a type declaration; they are created when you assign a value.\n"
   ]
  },
  {
   "cell_type": "code",
   "execution_count": 1,
   "metadata": {},
   "outputs": [
    {
     "data": {
      "text/plain": [
       "(29, 28, 30, 31)"
      ]
     },
     "execution_count": 1,
     "metadata": {},
     "output_type": "execute_result"
    }
   ],
   "source": [
    "# Assign ages (in years) to Friends characters\n",
    "ross_age = 29\n",
    "rachel_age = 28\n",
    "monica_age = 30\n",
    "joey_age = 31\n",
    "ross_name = 'Ross'\n",
    "# You can inspect these variables by evaluating them:\n",
    "ross_age, rachel_age, monica_age, joey_age"
   ]
  },
  {
   "cell_type": "markdown",
   "metadata": {},
   "source": [
    "> In the cell above, we have created four variables—`ross_age`, `rachel_age`, `monica_age`, and `joey_age`—and Python automatically determines their type (here, integers). Notice that simply writing the variable names (or a tuple of them) displays their values in a notebook cell.\n",
    "> You can use the `type()`function to determine the type assigned to a variable. Try it. "
   ]
  },
  {
   "cell_type": "markdown",
   "metadata": {},
   "source": [
    "**Important: Strings are immutable!**\n",
    "\n",
    "Try running the code below."
   ]
  },
  {
   "cell_type": "code",
   "execution_count": null,
   "metadata": {},
   "outputs": [],
   "source": [
    "ross_age[0] = 'B'"
   ]
  },
  {
   "cell_type": "markdown",
   "metadata": {},
   "source": [
    "### Operators\n",
    "\n",
    "#### Arithmetic Operators\n",
    "\n",
    "Arithmetic operators perform standard mathematical operations. They follow the BODMAS logic. \n",
    "\n",
    "| Symbol \t|Task Performed|\n",
    "|--------|-------|\n",
    "|+ \t|Addition|\n",
    "|- \t|Subtraction|\n",
    "|/ \t|division|\n",
    "|% \t|mod|\n",
    "|* \t|multiplication|\n",
    "|// \t|floor division|\n",
    "|** \t|to the power o|"
   ]
  },
  {
   "cell_type": "markdown",
   "metadata": {},
   "source": [
    "#### Relational and Logical Operators\n",
    "\n",
    "Relational operators compare values and return Boolean results (True or False). Logical operators combine Boolean values. Note that Python’s logical operator `and` is used for Boolean logic, whereas the bitwise operator `&` works on integers at the binary level.\n",
    "\n",
    "|Symbol| \tTask Performed|\n",
    "|----|------|\n",
    "|== |\tTrue, if it is equal|\n",
    "|!= |\tTrue, if not equal to|\n",
    "|< |\tless than|\n",
    "|> |\tgreater than|\n",
    "|<= |\tless than or equal to|\n",
    "|>= |\tgreater than or equal to|"
   ]
  },
  {
   "cell_type": "markdown",
   "metadata": {},
   "source": [
    " > **Additional Detail:**  \n",
    "> The logical operator `and` evaluates both sides as Boolean values and returns True only if both are True. In contrast, the bitwise operator `&` operates on the bits of an integer. "
   ]
  },
  {
   "cell_type": "markdown",
   "metadata": {},
   "source": [
    "#### Bitwise Operators\n",
    "\n",
    "Bitwise operators work directly on the binary representations of integers. These are particularly useful in low-level data processing."
   ]
  },
  {
   "cell_type": "markdown",
   "metadata": {},
   "source": [
    "### Built-in Functions\n",
    "\n",
    "Python provides a rich set of built-in functions that simplify data manipulation. In this section, we demonstrate several categories."
   ]
  },
  {
   "cell_type": "markdown",
   "metadata": {},
   "source": [
    "#### Type Conversion\n",
    "You can use `int()` `str()` etc. to cast and convert types. \n",
    "Try converting an integer to a variable, and check the type using the `type()`function\n"
   ]
  },
  {
   "cell_type": "markdown",
   "metadata": {},
   "source": [
    "#### **Important: Pythons Dynamic Typing**\n",
    "\n",
    "\n",
    "\n",
    "Consider these three statements. Do they change the printed value of A?\n",
    "```python\n",
    "A = [\"spam\"]\n",
    "B= A\n",
    "B[0] = \"shrubbery\n",
    "```\n"
   ]
  },
  {
   "cell_type": "markdown",
   "metadata": {},
   "source": [
    "How about these—is A changed now?\n",
    "```python\n",
    "A = [\"spam\"]\n",
    "B = A[:]\n",
    "B[0] = \"shrubbery\"\n",
    "```"
   ]
  },
  {
   "cell_type": "markdown",
   "metadata": {},
   "source": [
    "`round( )` function rounds the input value to a specified number of places or to the nearest integer.\n",
    "\n",
    "Syntax: round(number, digits)\n"
   ]
  },
  {
   "cell_type": "code",
   "execution_count": 19,
   "metadata": {},
   "outputs": [
    {
     "name": "stdout",
     "output_type": "stream",
     "text": [
      "6\n",
      "4.56\n"
     ]
    }
   ],
   "source": [
    "print(round(5.6231)) \n",
    "\n",
    "print(round(4.55892, 2))"
   ]
  },
  {
   "cell_type": "markdown",
   "metadata": {},
   "source": [
    "`isinstance( )` returns True, if the first argument is an instance of that class. Multiple classes can also be checked at once.\n",
    "\n",
    "Syntax: isinstance(object, type"
   ]
  },
  {
   "cell_type": "code",
   "execution_count": 20,
   "metadata": {},
   "outputs": [
    {
     "name": "stdout",
     "output_type": "stream",
     "text": [
      "True\n",
      "False\n",
      "True\n"
     ]
    }
   ],
   "source": [
    "print( isinstance(1, int))\n",
    "\n",
    "print(isinstance(1.0,int))\n",
    "\n",
    "print(isinstance(1.0,(int,float)))"
   ]
  },
  {
   "cell_type": "markdown",
   "metadata": {},
   "source": [
    "`range( )` function outputs the integers of the specified range. It can also be used to generate a series by specifying the difference between the two numbers within a particular range. The elements are returned in a list (will be discussing in detail later.)\n",
    "\n",
    "syntax: range(start, stop, step)\n"
   ]
  },
  {
   "cell_type": "code",
   "execution_count": 21,
   "metadata": {},
   "outputs": [
    {
     "name": "stdout",
     "output_type": "stream",
     "text": [
      "0\n",
      "2\n",
      "4\n",
      "6\n",
      "8\n"
     ]
    }
   ],
   "source": [
    "a=range(0,10,2)\n",
    "\n",
    "for n in a:\n",
    "\n",
    "    print(n)"
   ]
  },
  {
   "cell_type": "markdown",
   "metadata": {},
   "source": [
    "### Data Structures\n",
    "\n",
    "We now cover the main data structures in Python using Friends-related examples.\n",
    "\n",
    "#### Lists\n",
    "\n",
    "Lists are mutable sequences. In our theme, a list of Friends characters is defined.\n"
   ]
  },
  {
   "cell_type": "code",
   "execution_count": 6,
   "metadata": {},
   "outputs": [
    {
     "data": {
      "text/plain": [
       "['Rachel', 'Monica', 'Phoebe', 'Joey', 'Chandler', 'Ross']"
      ]
     },
     "execution_count": 6,
     "metadata": {},
     "output_type": "execute_result"
    }
   ],
   "source": [
    "# List of Friends characters\n",
    "friends = [\"Rachel\", \"Monica\", \"Phoebe\", \"Joey\", \"Chandler\", \"Ross\"]\n",
    "\n",
    "# Evaluating the list will show its contents\n",
    "friends"
   ]
  },
  {
   "cell_type": "markdown",
   "metadata": {},
   "source": [
    "##### List Built-in Functions\n",
    "\n",
    "Python provides many built-in functions for working with lists.\n"
   ]
  },
  {
   "cell_type": "code",
   "execution_count": null,
   "metadata": {},
   "outputs": [],
   "source": [
    "\n",
    "# Finding the number of friends\n",
    "num_friends = len(friends)\n",
    "\n",
    "# Alphabetically first and last friend\n",
    "first_friend = min(friends)  \n",
    "last_friend = max(friends)  \n",
    "\n",
    "# Sorting\n",
    "sorted_friends = sorted(friends)\n",
    "\n",
    "num_friends, first_friend, last_friend, sorted_friends\n"
   ]
  },
  {
   "cell_type": "markdown",
   "metadata": {},
   "source": [
    "##### Modifying Lists\n",
    "\n",
    "Lists are mutable, meaning you can modify them after creation."
   ]
  },
  {
   "cell_type": "code",
   "execution_count": null,
   "metadata": {},
   "outputs": [],
   "source": [
    "# Add Gunther to the group\n",
    "friends.append(\"Gunther\")\n",
    "\n",
    "# Insert Janice at the second position\n",
    "friends.insert(1, \"Janice\")\n",
    "\n",
    "# Remove the last friend (Gunther, who got added)\n",
    "friends.pop()\n",
    "\n",
    "# Replace Chandler with Mike (modify an existing item)\n",
    "friends[4] = \"Mike\"\n",
    "\n",
    "friends\n"
   ]
  },
  {
   "cell_type": "markdown",
   "metadata": {},
   "source": [
    "The `in` and `not in` operators check for membership in sequences such as lists, tuples, and dictionaries. These operators are commonly used for searching within a collection"
   ]
  },
  {
   "cell_type": "code",
   "execution_count": null,
   "metadata": {},
   "outputs": [],
   "source": [
    "# List of Friends characters\n",
    "friends = [\"Ross\", \"Rachel\", \"Monica\", \"Chandler\", \"Joey\", \"Phoebe\"]\n",
    "\n",
    "# Checking membership\n",
    "is_ross_in_friends = \"Ross\" in friends\n",
    "is_gunther_in_friends = \"Gunther\" in friends\n",
    "is_gunther_not_in_friends = \"Gunther\" not in friends\n",
    "\n",
    "is_ross_in_friends, is_gunther_in_friends, is_gunther_not_in_friends\n"
   ]
  },
  {
   "cell_type": "markdown",
   "metadata": {},
   "source": [
    "#### Tuples\n",
    "\n",
    "Tuples are immutable sequences. They can serve as records. For example, a tuple can represent a Friends character’s basic info.\n",
    "\n",
    "> Here, the tuple `rachel_info` represents a record for Rachel. Since tuples are immutable, their contents cannot be changed after creation."
   ]
  },
  {
   "cell_type": "code",
   "execution_count": 7,
   "metadata": {},
   "outputs": [
    {
     "data": {
      "text/plain": [
       "('Rachel', 28, 'Fashion Executive')"
      ]
     },
     "execution_count": 7,
     "metadata": {},
     "output_type": "execute_result"
    }
   ],
   "source": [
    "# Tuple representing a Friends character record: (name, age, occupation)\n",
    "rachel_info = (\"Rachel\", 28, \"Fashion Executive\")\n",
    "# Evaluating the tuple shows its immutable content\n",
    "rachel_info"
   ]
  },
  {
   "cell_type": "code",
   "execution_count": 8,
   "metadata": {},
   "outputs": [
    {
     "data": {
      "text/plain": [
       "{'Central Perk', 'London', 'NYU', 'Vegas'}"
      ]
     },
     "execution_count": 8,
     "metadata": {},
     "output_type": "execute_result"
    }
   ],
   "source": [
    "# Set of unique filming locations\n",
    "locations = {\"Central Perk\", \"NYU\", \"Vegas\", \"London\"}\n",
    "# Evaluating the set shows that duplicates are removed\n",
    "locations"
   ]
  },
  {
   "cell_type": "markdown",
   "metadata": {},
   "source": [
    "#### Dictionaries\n",
    "\n",
    "Dictionaries store key-value pairs. For instance, we can map a character’s name to their catchphrase."
   ]
  },
  {
   "cell_type": "code",
   "execution_count": 9,
   "metadata": {},
   "outputs": [
    {
     "data": {
      "text/plain": [
       "{'Chandler': 'Could I BE any more sarcastic?',\n",
       " 'Joey': \"How you doin'?\",\n",
       " 'Phoebe': 'Smelly Cat, Smelly Cat...'}"
      ]
     },
     "execution_count": 9,
     "metadata": {},
     "output_type": "execute_result"
    }
   ],
   "source": [
    "# Dictionary mapping Friends characters to a famous catchphrase\n",
    "friends_catchphrases = {\n",
    "    \"Chandler\": \"Could I BE any more sarcastic?\",\n",
    "    \"Joey\": \"How you doin'?\",\n",
    "    \"Monica\": \"I know!\"\n",
    "}\n",
    "# Getting a catchphrase safely\n",
    "joey_phrase = friends_catchphrases.get(\"Joey\", \"No catchphrase found\")\n",
    "\n",
    "\n",
    "# Adding a new entry\n",
    "friends_catchphrases[\"Ross\"] = \"We were on a break!\"\n",
    "\n",
    "# Removing an entry\n",
    "friends_catchphrases.pop(\"Monica\")\n",
    "\n",
    "# Checking all keys and values\n",
    "all_keys = friends_catchphrases.keys()\n",
    "all_values = friends_catchphrases.values()\n",
    "\n",
    "joey_phrase, all_keys, all_values\n"
   ]
  },
  {
   "cell_type": "code",
   "execution_count": null,
   "metadata": {},
   "outputs": [],
   "source": [
    "# Nested dictionary with character details\n",
    "friends_info = {\n",
    "    \"Ross\": {\"age\": 29, \"job\": \"Paleontologist\"},\n",
    "    \"Monica\": {\"age\": 30, \"job\": \"Chef\"},\n",
    "    \"Chandler\": {\"age\": 31, \"job\": \"Statistical Analyst\"}\n",
    "}\n",
    "\n",
    "# Accessing nested values\n",
    "ross_job = friends_info[\"Ross\"][\"job\"]\n",
    "chandler_age = friends_info[\"Chandler\"][\"age\"]\n",
    "\n",
    "ross_job, chandler_age\n"
   ]
  },
  {
   "cell_type": "markdown",
   "metadata": {},
   "source": [
    "#### Sets\n",
    "\n",
    "Sets are unordered collections of unique elements. For example, we can use a set to list the unique filming locations of Friends episodes.\n",
    "\n",
    "> The set `locations` contains unique items. Even if \"New York\" is repeated, it appears only once in the set."
   ]
  },
  {
   "cell_type": "code",
   "execution_count": 10,
   "metadata": {},
   "outputs": [
    {
     "data": {
      "text/plain": [
       "{'Central Perk', 'London', 'NYU', 'Vegas'}"
      ]
     },
     "execution_count": 10,
     "metadata": {},
     "output_type": "execute_result"
    }
   ],
   "source": [
    "# Set of unique filming locations\n",
    "locations = {\"Central Perk\", \"NYU\",\"NYU\",  \"Vegas\", \"London\"}\n",
    "# Evaluating the set shows that duplicates are removed\n",
    "locations"
   ]
  },
  {
   "cell_type": "markdown",
   "metadata": {},
   "source": [
    "### Indexing, Slicing, and Unpacking\n",
    "\n",
    "#### Indexing and Slicing\n",
    "\n",
    "Indexing accesses a single element; slicing extracts a subsequence. \n",
    "\n",
    "> \n",
    "> We use square brackets `[]` for indexing and slicing. Negative indices start from the end of the sequence.\n",
    "\n",
    "In Python, we can also index backward, from the end—positive indexes count from the left, and negative indexes count back from the right. "
   ]
  },
  {
   "cell_type": "code",
   "execution_count": null,
   "metadata": {},
   "outputs": [],
   "source": [
    "friends[len(friends)-1]"
   ]
  },
  {
   "cell_type": "markdown",
   "metadata": {},
   "source": [
    "> Notice that we can use an arbitrary expression in the square brackets, not just a hard- coded number literal—anywhere that Python expects a value, we can use a literal, a variable, or any expression we wish. Python’s syntax is completely general this way."
   ]
  },
  {
   "cell_type": "code",
   "execution_count": 11,
   "metadata": {},
   "outputs": [
    {
     "data": {
      "text/plain": [
       "('Rachel', 'Ross', ['Monica', 'Phoebe', 'Joey'])"
      ]
     },
     "execution_count": 11,
     "metadata": {},
     "output_type": "execute_result"
    }
   ],
   "source": [
    "# List indexing and slicing with our friends list\n",
    "first_friend = friends[0]        # \"Rachel\"\n",
    "last_friend = friends[-1]        # \"Ross\"\n",
    "middle_friends = friends[1:4]      # [\"Monica\", \"Phoebe\", \"Joey\"]\n",
    "\n",
    "first_friend, last_friend, middle_friends"
   ]
  },
  {
   "cell_type": "markdown",
   "metadata": {},
   "source": [
    "Probably the easiest way to think of slices is that they are a way to extract an entire column from a string in a single step. Their general form, X[I:J], means “give me ev- erything in X from offset I up to but not including offset J.” The result is returned in a new object."
   ]
  },
  {
   "cell_type": "markdown",
   "metadata": {},
   "source": [
    "##### Unpacking\n",
    "\n",
    "Unpacking assigns elements of a sequence to variables. This helps avoid using indices.\n"
   ]
  },
  {
   "cell_type": "code",
   "execution_count": 12,
   "metadata": {},
   "outputs": [
    {
     "data": {
      "text/plain": [
       "('Rachel', 'Monica', 'Phoebe', 'Joey', 'Chandler', 'Ross')"
      ]
     },
     "execution_count": 12,
     "metadata": {},
     "output_type": "execute_result"
    }
   ],
   "source": [
    "# Unpack the friends list into individual variables\n",
    "rachel, monica, phoebe, joey, chandler, ross = friends\n",
    "# Evaluating the variables (each will display its value)\n",
    "rachel, monica, phoebe, joey, chandler, ross"
   ]
  },
  {
   "cell_type": "markdown",
   "metadata": {},
   "source": [
    "##### Extended Unpacking\n",
    "\n",
    "The * operator lets you capture multiple values in a single variable.\n",
    "> Here, `first` gets the first element, `last` gets the last element, and `middle` captures the remaining elements as a list."
   ]
  },
  {
   "cell_type": "code",
   "execution_count": 13,
   "metadata": {},
   "outputs": [
    {
     "data": {
      "text/plain": [
       "('Rachel', ['Monica', 'Phoebe', 'Joey', 'Chandler'], 'Ross')"
      ]
     },
     "execution_count": 13,
     "metadata": {},
     "output_type": "execute_result"
    }
   ],
   "source": [
    "first, *middle, last = friends\n",
    "first, middle, last"
   ]
  },
  {
   "cell_type": "markdown",
   "metadata": {},
   "source": [
    "### Understanding Views vs. Copies\n",
    "\n",
    "One common pitfall is misunderstanding when a slice returns a new copy versus a view. With lists, slicing creates a copy."
   ]
  },
  {
   "cell_type": "code",
   "execution_count": 14,
   "metadata": {},
   "outputs": [
    {
     "data": {
      "text/plain": [
       "([29, 28, 30, 31], [29, 28, 30, 31, 32])"
      ]
     },
     "execution_count": 14,
     "metadata": {},
     "output_type": "execute_result"
    }
   ],
   "source": [
    "# Create a list of Friends ages\n",
    "ages = [ross_age, rachel_age, monica_age, joey_age]\n",
    "ages_copy = ages[:]  # This creates a new copy\n",
    "\n",
    "# Modify the copy by appending a new age (e.g., Chandler's age)\n",
    "ages_copy.append(32)\n",
    "\n",
    "# Evaluating both lists shows that the original remains unchanged\n",
    "ages, ages_copy"
   ]
  },
  {
   "cell_type": "markdown",
   "metadata": {},
   "source": [
    "### Strings\n",
    "\n",
    "Strings are immutable sequences of characters. They can be sliced, indexed, and formatted.\n",
    "By and large, strings are fairly easy to use in Python. Perhaps the most complicated thing about them is that there are so many ways to write them in your code:\n",
    "- Single quotes: 'spa\"m'\n",
    "- Double quotes: \"spa'm\"\n",
    "- Triple quotes: '''... spam ...''', \"\"\"... spam ...\"\"\"\n",
    "- Escape sequences: \"s\\tp\\na\\0m\"\n",
    "- Raw strings: r\"C:\\new\\test.spm\" $\\rightarrow$ this can come in handy when defining file paths\n",
    "\n"
   ]
  },
  {
   "cell_type": "code",
   "execution_count": 15,
   "metadata": {},
   "outputs": [
    {
     "data": {
      "text/plain": [
       "(\"I'll be there for you\", \"I'll be th\")"
      ]
     },
     "execution_count": 15,
     "metadata": {},
     "output_type": "execute_result"
    }
   ],
   "source": [
    "# A Friends-themed string\n",
    "theme_song = \"I'll be there for you\"\n",
    "# Evaluating a slice: the first 10 characters\n",
    "theme_slice = theme_song[:10]\n",
    "\n",
    "theme_song, theme_slice"
   ]
  },
  {
   "cell_type": "markdown",
   "metadata": {},
   "source": [
    "#### Some Basic String Stuff"
   ]
  },
  {
   "cell_type": "code",
   "execution_count": null,
   "metadata": {},
   "outputs": [],
   "source": [
    "tv_guide = 'chanandler' + 'bong'\n",
    "print(len(tv_guide))\n",
    "pivot = 'Pivot!' * 10\n",
    "pivot"
   ]
  },
  {
   "cell_type": "markdown",
   "metadata": {},
   "source": [
    "#### Extended Slicing\n",
    "Python allows slicing with three parameters: `[start:stop:step]`."
   ]
  },
  {
   "cell_type": "code",
   "execution_count": null,
   "metadata": {},
   "outputs": [],
   "source": [
    "# Reverse a Friends quote\n",
    "quote = \"We were on a break!\"\n",
    "reversed_quote = quote[::-1]  # Reverse the string\n",
    "\n",
    "# Extract every second letter\n",
    "every_second_letter = quote[::2]  \n",
    "\n",
    "reversed_quote, every_second_letter\n"
   ]
  },
  {
   "cell_type": "markdown",
   "metadata": {},
   "source": [
    "#### String Methods\n",
    "Python also supports a number of built in string methods. "
   ]
  },
  {
   "cell_type": "code",
   "execution_count": null,
   "metadata": {},
   "outputs": [],
   "source": [
    "phrase = \"Friends is the best show ever!\"\n",
    "\n",
    "# Convert to uppercase\n",
    "upper_phrase = phrase.upper()\n",
    "\n",
    "# Replace words\n",
    "replaced_phrase = phrase.replace(\"best\", \"worst\")\n",
    "\n",
    "# Check if phrase starts with a word\n",
    "starts_with_friends = phrase.startswith(\"Friends\")\n",
    "\n",
    "upper_phrase, replaced_phrase, starts_with_friends\n"
   ]
  },
  {
   "cell_type": "markdown",
   "metadata": {},
   "source": [
    "> Again, despite the names of these string methods, we are not changing the original strings here, but creating new strings as the results—because strings are immutable, this is the only way this can work. \n"
   ]
  },
  {
   "cell_type": "markdown",
   "metadata": {},
   "source": [
    "\n",
    "#### F String Formatting\n",
    "\n",
    "f-strings are a powerful way to embed expressions in string literals. They make formatting clear and concise."
   ]
  },
  {
   "cell_type": "code",
   "execution_count": 18,
   "metadata": {},
   "outputs": [
    {
     "data": {
      "text/plain": [
       "\"Joey is known for saying: How you doin'?\""
      ]
     },
     "execution_count": 18,
     "metadata": {},
     "output_type": "execute_result"
    }
   ],
   "source": [
    "# Create an f-string using Friends data\n",
    "character = \"Joey\"\n",
    "catchphrase = friends_catchphrases.get(character, \"No catchphrase\")\n",
    "message = f\"{character} is known for saying: {catchphrase}\"\n",
    "\n",
    "# Evaluating the f-string shows the formatted message\n",
    "message"
   ]
  },
  {
   "cell_type": "markdown",
   "metadata": {},
   "source": [
    "### Loops\n",
    "- Recap: If Statements, For Loops and While Loops."
   ]
  },
  {
   "cell_type": "code",
   "execution_count": null,
   "metadata": {},
   "outputs": [],
   "source": [
    "# Checking if Ross is older than Rachel\n",
    "if friends_info[\"Ross\"][\"age\"] > friends_info[\"Monica\"][\"age\"]:\n",
    "    outcome = \"Ross is older than Monica.\"\n",
    "else:\n",
    "    outcome = \"Ross is not older than Monica.\"\n",
    "\n",
    "outcome\n"
   ]
  },
  {
   "cell_type": "code",
   "execution_count": null,
   "metadata": {},
   "outputs": [],
   "source": [
    "# Looping through friends\n",
    "friend_ages = {\"Ross\": 29, \"Monica\": 30, \"Chandler\": 31}\n",
    "\n",
    "for friend, age in friend_ages.items():\n",
    "    sentence = f\"{friend} is {age} years old.\"\n",
    "    print(sentence)\n"
   ]
  },
  {
   "cell_type": "code",
   "execution_count": null,
   "metadata": {},
   "outputs": [],
   "source": [
    "# Counting down from 5\n",
    "counter = 5\n",
    "while counter > 0:\n",
    "    print(f\"Counting down: {counter}\")\n",
    "    counter -= 1\n"
   ]
  },
  {
   "cell_type": "markdown",
   "metadata": {},
   "source": [
    "##### Break, Continue, and Pass (Explained with Examples)\n",
    "\n",
    "Each of these keywords changes how a loop executes:\n",
    "\n",
    "- **break**: Immediately stops the loop.\n",
    "- **continue**: Skips the current iteration and moves to the next.\n",
    "- **pass**: Does nothing, acting as a placeholder."
   ]
  },
  {
   "cell_type": "markdown",
   "metadata": {},
   "source": [
    "###### Break"
   ]
  },
  {
   "cell_type": "code",
   "execution_count": null,
   "metadata": {},
   "outputs": [],
   "source": [
    "# Searching for Chandler in the Friends group\n",
    "friends = [\"Ross\", \"Rachel\", \"Monica\", \"Chandler\", \"Joey\", \"Phoebe\"]\n",
    "\n",
    "for friend in friends:\n",
    "    if friend == \"Chandler\":\n",
    "        break  # Stops when Chandler is found\n",
    "    print(f\"{friend} is not Chandler.\")  \n"
   ]
  },
  {
   "cell_type": "markdown",
   "metadata": {},
   "source": [
    "###### Continue"
   ]
  },
  {
   "cell_type": "code",
   "execution_count": null,
   "metadata": {},
   "outputs": [],
   "source": [
    "# The Friends characters are ordering coffee, except Joey, who already has one\n",
    "for friend in friends:\n",
    "    if friend == \"Joey\":\n",
    "        continue  # Skip Joey\n",
    "    print(f\"{friend} orders coffee.\")  \n"
   ]
  },
  {
   "cell_type": "markdown",
   "metadata": {},
   "source": [
    "##### Pass"
   ]
  },
  {
   "cell_type": "code",
   "execution_count": null,
   "metadata": {},
   "outputs": [],
   "source": [
    "# Placeholder function for a future feature\n",
    "def friend_introduction(friend):\n",
    "    if friend == \"Janice\":\n",
    "        pass  # Placeholder for Janice's introduction\n",
    "    else:\n",
    "        print(f\"{friend} says hello!\")\n",
    "\n",
    "friend_introduction(\"Ross\")  \n",
    "friend_introduction(\"Janice\")  \n"
   ]
  },
  {
   "cell_type": "markdown",
   "metadata": {},
   "source": [
    "#### Nested Loops\n",
    "Nested loops occur when one loop runs inside another."
   ]
  },
  {
   "cell_type": "code",
   "execution_count": null,
   "metadata": {},
   "outputs": [],
   "source": [
    "# Friends meeting locations\n",
    "locations = [\"Central Perk\", \"Monica's Apartment\"]\n",
    "people = [\"Ross\", \"Rachel\", \"Joey\"]\n",
    "\n",
    "# Nested loop: Each person visits each location\n",
    "for location in locations:\n",
    "    for person in people:\n",
    "        print(f\"{person} is at {location}.\")\n"
   ]
  },
  {
   "cell_type": "markdown",
   "metadata": {},
   "source": [
    "## Some Advanced Topics\n",
    "### Understanding Iterables, Iteration, and List Comprehensions  \n",
    "\n",
    "Before we dive into code, let’s first understand the fundamental concepts of iterables, iteration, and list comprehensions—key building blocks for working with data efficiently in Python.\n",
    "\n",
    "#### What is an Iterable?  \n",
    "An iterable is any Python object that can return its elements one at a time. Lists, tuples, dictionaries, sets, and even strings are iterables because they contain multiple elements that can be accessed sequentially. Think of an iterable like a script of a Friends episode—each line is stored in order, and you can go through it one by one.  \n",
    "\n",
    "#### What is Iteration?  \n",
    "Iteration is the process of going through an iterable, accessing each element in turn. This is done using loops or special functions that retrieve elements automatically. For example, when we loop through a list of Friends characters and print each name, we are iterating over that list.  \n",
    "\n",
    "Iteration is crucial in programming because it allows us to process data dynamically—whether that means counting the number of lines Joey has in Season 2, finding the most common words in dialogues, or filtering episodes with high IMDb ratings.  \n",
    "\n",
    "#### What is an Iterator?  \n",
    "An iterator is a special type of iterable that remembers its position while iterating. It follows the iterator protocol, meaning it implements two methods:  \n",
    "- `__iter__()` → Returns the iterator itself.  \n",
    "- `__next__()` → Returns the next item in the sequence.  \n",
    "\n",
    "Unlike regular iterables, iterators don’t restart when exhausted—they must be recreated. You can think of this like watching an episode of Friends: if you pause and resume later, you continue from where you left off.  \n",
    "\n",
    "#### What is a List Comprehension?  \n",
    "A list comprehension is a concise and readable way to create lists by applying an operation to each element in an iterable. Instead of writing a loop to filter or transform data, we can express it in a single line.  \n",
    "\n",
    "For example, instead of writing multiple lines to collect all dialogue lines spoken by Ross, we can use a list comprehension to do it in one compact expression. This makes code more readable, efficient, and Pythonic.  \n",
    "\n",
    "#### Why Use List Comprehensions?  \n",
    "List comprehensions have several advantages:  \n",
    "- Concise: Reduces the number of lines needed for simple operations.  \n",
    "- Efficient: Runs faster than using explicit loops in many cases.  \n",
    "- Readable: Expresses filtering and transformations in an intuitive way.  \n",
    "\n",
    "For example, if we wanted to get all episodes with more than 10 million US viewers, a loop would take multiple lines, while a list comprehension could do it in just one.  \n",
    "\n"
   ]
  },
  {
   "cell_type": "markdown",
   "metadata": {},
   "source": [
    "### Data\n",
    "We have two CSV files:\n",
    "- **friends.csv**: Contains dialogue data with columns such as `text`, `speaker`, `season`, `episode`, etc.\n",
    "- **friends_info.csv**: Contains episode metadata with columns such as `season`, `episode`, `title`, `directed_by`, `written_by`, `air_date`, `us_views_millions`, and `imdb_rating`.\n",
    "\n",
    "We’ll use Pandas just to load the data and then convert them into plain Python data structures."
   ]
  },
  {
   "cell_type": "code",
   "execution_count": null,
   "metadata": {},
   "outputs": [],
   "source": [
    "import pandas as pd\n",
    "\n",
    "# Load the CSV files using Pandas\n",
    "friends_df = pd.read_csv(r\"datasets/friends.csv\")\n",
    "friends_info_df = pd.read_csv(r\"datasets/friends_info.csv\")\n",
    "\n",
    "# Convert to lists of dictionaries for plain Python processing\n",
    "friends_data = friends_df.to_dict(orient=\"records\")\n",
    "friends_info_data = friends_info_df.to_dict(orient=\"records\")"
   ]
  },
  {
   "cell_type": "markdown",
   "metadata": {},
   "source": [
    "### Step 2. Basic Iteration\n",
    "\n",
    "Let’s start by iterating over the list of dialogue records (from friends_data) to, for example, collect all lines spoken by **Rachel**."
   ]
  },
  {
   "cell_type": "code",
   "execution_count": null,
   "metadata": {},
   "outputs": [],
   "source": [
    "# Basic iteration: Extract dialogue lines by Rachel\n",
    "rachel_dialogues = []  # We'll collect these in a list\n",
    "for record in friends_data:\n",
    "    if record[\"speaker\"] == \"Rachel\":\n",
    "        # Each record is a dictionary; we add the dialogue text to our list.\n",
    "        rachel_dialogues.append(record[\"text\"])\n",
    "\n",
    "# Show a few of Rachel's dialogue lines (first 3 for brevity)\n",
    "rachel_dialogues[:3]"
   ]
  },
  {
   "cell_type": "markdown",
   "metadata": {},
   "source": [
    "### Step 3. Basic List Comprehensions\n",
    "\n",
    "Now we can rewrite the above loop as a list comprehension. This single line builds a list by filtering and mapping at once."
   ]
  },
  {
   "cell_type": "code",
   "execution_count": null,
   "metadata": {},
   "outputs": [],
   "source": [
    "# Using a list comprehension to extract Rachel's dialogues in one line\n",
    "rachel_dialogues_comp = [record[\"text\"] \n",
    "                         for record in friends_data \n",
    "                         if record[\"speaker\"] == \"Rachel\"]\n",
    "\n",
    "rachel_dialogues_comp[:3]"
   ]
  },
  {
   "cell_type": "markdown",
   "metadata": {},
   "source": [
    "> This list comprehension iterates over every record in `friends_data`, includes only those where `speaker` is `\"Rachel\"`, and extracts the `text` field. The result is functionally identical to the previous loop but in a more compact form."
   ]
  },
  {
   "cell_type": "markdown",
   "metadata": {},
   "source": [
    "### Step 4. Extended Examples: Filtering with Multiple Conditions\n",
    "\n",
    "Let’s extend our example to work with both datasets. Suppose we want to extract all dialogue lines from episodes with a high IMDb rating (above 8.0). To do this efficiently, we first build a lookup dictionary for episode metadata keyed by `(season, episode)`"
   ]
  },
  {
   "cell_type": "code",
   "execution_count": null,
   "metadata": {},
   "outputs": [],
   "source": [
    "# Create a lookup dictionary from friends_info_data keyed by (season, episode)\n",
    "info_lookup = {(record[\"season\"], record[\"episode\"]): record \n",
    "               for record in friends_info_data}\n",
    "\n",
    "# Now, iterate over friends_data and select dialogues from episodes with IMDb rating > 8.0\n",
    "high_rating_dialogues = []\n",
    "for record in friends_data:\n",
    "    key = (record[\"season\"], record[\"episode\"])\n",
    "    # Get the episode info if available\n",
    "    episode_info = info_lookup.get(key)\n",
    "    if episode_info and episode_info[\"imdb_rating\"] > 8.0:\n",
    "        # Append a tuple: (episode title, speaker, dialogue)\n",
    "        high_rating_dialogues.append((episode_info[\"title\"], record[\"speaker\"], record[\"text\"]))\n",
    "\n",
    "high_rating_dialogues[:3]"
   ]
  },
  {
   "cell_type": "markdown",
   "metadata": {},
   "source": [
    "### Step 5. Extended List Comprehensions\n",
    "\n",
    "We can achieve the same result as above using a nested list comprehension. This version is more concise but slightly denser.\n"
   ]
  },
  {
   "cell_type": "code",
   "execution_count": null,
   "metadata": {},
   "outputs": [],
   "source": [
    "# List comprehension version: Extract (title, speaker, dialogue) for high-rated episodes\n",
    "high_rating_dialogues_comp = [\n",
    "    (info_lookup[(record[\"season\"], record[\"episode\"])][\"title\"], \n",
    "     record[\"speaker\"], \n",
    "     record[\"text\"])\n",
    "    for record in friends_data\n",
    "    if (record[\"season\"], record[\"episode\"]) in info_lookup \n",
    "       and info_lookup[(record[\"season\"], record[\"episode\"])][\"imdb_rating\"] > 8.0\n",
    "]\n",
    "\n",
    "high_rating_dialogues_comp[:3]"
   ]
  },
  {
   "cell_type": "markdown",
   "metadata": {},
   "source": [
    "> - This comprehension does the same filtering as before: it checks if the episode exists in `info_lookup` and whether its IMDb rating exceeds 8.0.\n",
    "> - For each valid record, it builds a tuple with the episode title, speaker, and dialogue."
   ]
  },
  {
   "cell_type": "markdown",
   "metadata": {},
   "source": [
    "### Step 6. Advanced Examples: Nested and Conditional Comprehensions\n",
    "\n",
    "Now let’s see an advanced example that uses multiple for‑clauses and conditional expressions. Suppose we want to build a summary of each episode in season 3 where we list all unique speakers and the number of lines they spoke.\n",
    "\n",
    "#### Step 6.1: Build a Dictionary of Episodes to Speaker Counts\n",
    "\n",
    "First, we create a dictionary that maps each episode (season, episode) to a sub‑dictionary of speaker counts."
   ]
  },
  {
   "cell_type": "code",
   "execution_count": null,
   "metadata": {},
   "outputs": [],
   "source": [
    "# Advanced: Build a nested dictionary for season 3 episodes\n",
    "episode_speaker_counts = {}\n",
    "\n",
    "for record in friends_data:\n",
    "    if record[\"season\"] == 3:\n",
    "        key = (record[\"season\"], record[\"episode\"])\n",
    "        speaker = record[\"speaker\"]\n",
    "        # Initialize the nested dictionary if needed\n",
    "        if key not in episode_speaker_counts:\n",
    "            episode_speaker_counts[key] = {}\n",
    "        # Count the dialogue line for the speaker\n",
    "        episode_speaker_counts[key][speaker] = episode_speaker_counts[key].get(speaker, 0) + 1\n",
    "\n",
    "episode_speaker_counts"
   ]
  },
  {
   "cell_type": "markdown",
   "metadata": {},
   "source": [
    "> We iterate over all dialogue records from season 3.\n",
    "> For each record, we use the tuple `(season, episode)` as a key.\n",
    "> We then count how many lines each speaker delivers in that episode.\n"
   ]
  },
  {
   "cell_type": "markdown",
   "metadata": {},
   "source": [
    "#### Step 6.2: Use a List Comprehension to Summarize the Data\n",
    "\n",
    "Now, we can use a list comprehension to produce a summary list. Each element will be a tuple containing the episode (season, episode), a sorted list of speakers, and their dialogue counts."
   ]
  },
  {
   "cell_type": "code",
   "execution_count": null,
   "metadata": {},
   "outputs": [],
   "source": [
    "# Advanced list comprehension: Summarize season 3 episodes with speaker counts\n",
    "episode_summary = [\n",
    "    ((season, episode), \n",
    "     sorted(speaker_counts.items(), key=lambda x: x[1], reverse=True))\n",
    "    for (season, episode), speaker_counts in episode_speaker_counts.items()\n",
    "]\n",
    "\n",
    "episode_summary[:3]"
   ]
  },
  {
   "cell_type": "markdown",
   "metadata": {},
   "source": [
    "> This comprehension iterates over each episode key and its corresponding speaker counts.\n",
    "> For each episode, it creates a tuple: the episode identifier and a sorted list (by number of lines, descending) of speaker/count pairs.\n",
    "> This gives a clear summary of which Friends character dominated each episode in season 3."
   ]
  },
  {
   "cell_type": "markdown",
   "metadata": {},
   "source": [
    "### Step 7. Iteration with Enumerate and Zip\n",
    "\n",
    "Lastly, let’s illustrate using built-in functions like `enumerate()` and `zip()` to process our lists further. For instance, we can label the first 5 dialogue lines from a specific episode and then pair them with the speaker names."
   ]
  },
  {
   "cell_type": "code",
   "execution_count": null,
   "metadata": {},
   "outputs": [],
   "source": [
    "# Get dialogue lines from season 1, episode 1\n",
    "episode_1_dialogues = [record for record in friends_data \n",
    "                       if record[\"season\"] == 1 and record[\"episode\"] == 1]\n",
    "\n",
    "# Use enumerate to number each dialogue line (starting from 1)\n",
    "numbered_dialogues = [(i, record[\"speaker\"], record[\"text\"]) \n",
    "                      for i, record in enumerate(episode_1_dialogues, start=1)]\n",
    "numbered_dialogues[:5]\n",
    "\n",
    "# Suppose we extract two separate lists: one for speakers and one for dialogues\n",
    "speakers = [record[\"speaker\"] for record in episode_1_dialogues][:5]\n",
    "dialogues = [record[\"text\"] for record in episode_1_dialogues][:5]\n",
    "\n",
    "# Use zip() to combine the speakers and dialogues into a formatted string\n",
    "paired_lines = [f\"{speaker}: {dialogue}\" for speaker, dialogue in zip(speakers, dialogues)]\n",
    "paired_lines"
   ]
  },
  {
   "cell_type": "markdown",
   "metadata": {},
   "source": [
    "> The first block uses a list comprehension with an if‑condition to filter dialogue lines for season 1, episode 1.\n",
    "> Then, `enumerate()` is used to assign a line number to each dialogue.\n",
    "> Finally, we use `zip()` to pair the first five speakers with their dialogues, demonstrating how you can combine two lists element‑by‑element."
   ]
  },
  {
   "cell_type": "markdown",
   "metadata": {},
   "source": [
    "# Exercises!"
   ]
  },
  {
   "cell_type": "markdown",
   "metadata": {},
   "source": [
    "Below are two exercises that challenge you to combine everything we’ve learned—from iteration and list methods to comprehensions, dictionary manipulations, string methods, type conversion, f‑strings, and careful handling of copies versus views. Use the two Friends datasets (friends.csv and friends_info.csv) that were loaded earlier (and converted into lists of dictionaries) to complete the following tasks.\n",
    "\n",
    "\n",
    "\n",
    "### Exercise 1: Episode Dialogue Summary\n",
    "\n",
    "**Task:**  \n",
    "Using the `friends_data` (dialogues) and `friends_info_data` (episode metadata), create a summary for each episode in Season 3. For each episode, compute:\n",
    "- **Episode Title:** (from friends_info_data)\n",
    "- **Total Number of Dialogue Lines:** Count how many dialogue records occur in that episode.\n",
    "- **Average Dialogue Length:** Calculate the average number of characters per dialogue line (convert numbers to integers as needed).\n",
    "- **Unique Speakers:** A sorted (alphabetically) list of all speakers in that episode.\n",
    "\n",
    "Your final result should be a list of dictionaries (one dictionary per episode), with keys: `\"season\"`, `\"episode\"`, `\"title\"`, `\"dialogue_count\"`, `\"avg_length\"`, and `\"unique_speakers\"`.\n",
    "\n",
    "*Hint:*  \n",
    "- First, build a lookup (dictionary) keyed by `(season, episode)` for the episode metadata.  \n",
    "- Use iteration and list comprehensions to filter and process dialogue records from `friends_data`.  \n",
    "- Use list methods and string methods where necessary.\n"
   ]
  },
  {
   "cell_type": "code",
   "execution_count": null,
   "metadata": {},
   "outputs": [],
   "source": [
    "\n",
    "# Your solution here:\n",
    "# 1. Create a lookup dictionary for episodes in Season 3 using friends_info_data.\n",
    "# 2. Iterate over friends_data to group dialogue records by (season, episode) for Season 3.\n",
    "# 3. For each episode, compute the dialogue count, average dialogue length, and a sorted list of unique speakers.\n",
    "# 4. Build and return the final list of dictionaries summarizing the episodes.\n",
    "\n"
   ]
  },
  {
   "cell_type": "markdown",
   "metadata": {},
   "source": [
    "### **Exercise 2: High-Rated Episode Dialogue Transformation**\n",
    "\n",
    "**Task:**  \n",
    "Merge the two datasets by matching on season and episode. Then, for all dialogue records from episodes with an IMDb rating above 8.5, produce a formatted string for each record with the following rules:\n",
    "- Use an f‑string to format the output as:  \n",
    "  `\"<Title> | <Speaker>: <Dialogue>\"`\n",
    "- If the dialogue text is longer than 50 characters, convert it to uppercase; otherwise, convert it to title case.\n",
    "- Ensure that the extraction of dialogue lines is done using a method that creates a copy (so that modifying the new list does not affect the original data).\n",
    "\n",
    "Your final output should be a list of these formatted strings.\n",
    "\n",
    "*Hint:*  \n",
    "- Build a lookup dictionary from `friends_info_data` keyed by `(season, episode)`.  \n",
    "- Use a list comprehension (or nested comprehensions) to filter dialogue records from `friends_data` whose corresponding episode has an IMDb rating greater than 8.5.  \n",
    "- Use conditional expressions inside your comprehension to decide whether to use `.upper()` or `.title()` on the dialogue text.\n",
    "\n"
   ]
  },
  {
   "cell_type": "code",
   "execution_count": null,
   "metadata": {},
   "outputs": [],
   "source": [
    "# Your solution here:\n",
    "# 1. Build a lookup dictionary from friends_info_data keyed by (season, episode).\n",
    "# 2. Filter the dialogues in friends_data to only include those from episodes with imdb_rating > 8.5.\n",
    "# 3. For each such dialogue, create a formatted string: \"<title> | <speaker>: <dialogue>\".\n",
    "#    - Convert the dialogue text to uppercase if its length > 50, else title-case it.\n",
    "# 4. Ensure that you create a copy of the dialogue data before modification (e.g., via slicing).\n",
    "# 5. Return the list of formatted strings."
   ]
  }
 ],
 "metadata": {
  "kernelspec": {
   "display_name": "Python 3",
   "language": "python",
   "name": "python3"
  },
  "language_info": {
   "codemirror_mode": {
    "name": "ipython",
    "version": 3
   },
   "file_extension": ".py",
   "mimetype": "text/x-python",
   "name": "python",
   "nbconvert_exporter": "python",
   "pygments_lexer": "ipython3",
   "version": "3.12.5"
  }
 },
 "nbformat": 4,
 "nbformat_minor": 2
}
